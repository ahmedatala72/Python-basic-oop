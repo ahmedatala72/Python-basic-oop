{
 "cells": [
  {
   "cell_type": "markdown",
   "id": "ffae1422",
   "metadata": {},
   "source": [
    "                             Printing                                        "
   ]
  },
  {
   "cell_type": "code",
   "execution_count": 1,
   "id": "630e77c8",
   "metadata": {},
   "outputs": [
    {
     "name": "stdout",
     "output_type": "stream",
     "text": [
      "The integer Eqivalent of False is 0\n"
     ]
    }
   ],
   "source": [
    "print(\"The integer Eqivalent of\" , False ,\"is\",0)"
   ]
  },
  {
   "cell_type": "code",
   "execution_count": 2,
   "id": "81b2a217",
   "metadata": {},
   "outputs": [
    {
     "name": "stdout",
     "output_type": "stream",
     "text": [
      "The value of x upto 3 decimal points is 91.235\n"
     ]
    }
   ],
   "source": [
    "x=91.234566\n",
    "print(\"The value of x upto 3 decimal points is {:.3f}\".format(x))"
   ]
  },
  {
   "cell_type": "code",
   "execution_count": 3,
   "id": "dfcd339c",
   "metadata": {},
   "outputs": [
    {
     "name": "stdout",
     "output_type": "stream",
     "text": [
      "Ahmed and Nader Watch AL Ahly match\n"
     ]
    }
   ],
   "source": [
    "y= \"Ahmed\"\n",
    "x=\"Nader\"\n",
    "print(\"{1} and {0} Watch AL Ahly match\".format(x,y))"
   ]
  },
  {
   "cell_type": "code",
   "execution_count": 6,
   "id": "28ed8360",
   "metadata": {},
   "outputs": [
    {
     "name": "stdout",
     "output_type": "stream",
     "text": [
      "Enter your age:22\n",
      "In 2005, you were 17 years old\n"
     ]
    }
   ],
   "source": [
    "age=input(\"Enter your age:\")\n",
    "print(\"In 2005, you were\",int(age)-5,\"years old\")"
   ]
  },
  {
   "cell_type": "markdown",
   "id": "5918b35d",
   "metadata": {},
   "source": [
    "                                         Operators\n",
    "                                         \n",
    "                               Arithmetic operators:\n",
    "\"**\"(Exponent),\"%\"(modulo or remainder), \"//\"(quotient), \"*\"(multiplication), \"-\"(subtraction) , \"+\" (addition)"
   ]
  },
  {
   "cell_type": "code",
   "execution_count": 9,
   "id": "ee5238e5",
   "metadata": {},
   "outputs": [
    {
     "data": {
      "text/plain": [
       "-10.474747474747474"
      ]
     },
     "execution_count": 9,
     "metadata": {},
     "output_type": "execute_result"
    }
   ],
   "source": [
    "(((19+22)*23)/99-20)"
   ]
  },
  {
   "cell_type": "markdown",
   "id": "2258ae00",
   "metadata": {},
   "source": [
    "                              Comparison operators:\n",
    "> : Greater than ,\n",
    "< : Less than ,\n",
    "<=: Less than or equal to ,\n",
    ">=: Greater than or equal to ,\n",
    "== : equality. Please note that this is different from the assignment \n",
    "operator (=) ,\n",
    "!=(not equal to).     "
   ]
  },
  {
   "cell_type": "code",
   "execution_count": 1,
   "id": "62b98ac9",
   "metadata": {},
   "outputs": [
    {
     "data": {
      "text/plain": [
       "True"
      ]
     },
     "execution_count": 1,
     "metadata": {},
     "output_type": "execute_result"
    }
   ],
   "source": [
    "(20>18) and (84>25)\n",
    "\n"
   ]
  },
  {
   "cell_type": "code",
   "execution_count": 2,
   "id": "324025b7",
   "metadata": {},
   "outputs": [
    {
     "data": {
      "text/plain": [
       "True"
      ]
     },
     "execution_count": 2,
     "metadata": {},
     "output_type": "execute_result"
    }
   ],
   "source": [
    "(2>1) or (1>3)\n"
   ]
  },
  {
   "cell_type": "code",
   "execution_count": 3,
   "id": "d471c20b",
   "metadata": {},
   "outputs": [
    {
     "data": {
      "text/plain": [
       "True"
      ]
     },
     "execution_count": 3,
     "metadata": {},
     "output_type": "execute_result"
    }
   ],
   "source": [
    "not(1>2)"
   ]
  },
  {
   "cell_type": "markdown",
   "id": "04391c3c",
   "metadata": {},
   "source": [
    "                                       Assignment operators:\n",
    "= (assigns a value to a variable),\n",
    "+= (adds the value on the right to the operand on the left),\n",
    "-= (subtracts the value on the right from the operand on the left),\n",
    "*= (multiplies the operand on the left by the value on the right),\n",
    "%= (returns the remainder after dividing the operand on the left by \n",
    "the value on the right),\n",
    "/= (returns the quotient, after dividing the operand on the left by the \n",
    "value on the right),\n",
    "//= (returns only the integer part of the quotient after dividing the \n",
    "operand on the left by the value on the right) ."
   ]
  },
  {
   "cell_type": "code",
   "execution_count": 9,
   "id": "5a51e453",
   "metadata": {},
   "outputs": [],
   "source": [
    "x=9\n",
    "x+=7\n",
    "x-=9\n",
    "x*=9\n",
    "x%=5\n",
    "x/=2\n",
    "x//=6\n"
   ]
  },
  {
   "cell_type": "code",
   "execution_count": 12,
   "id": "07704568",
   "metadata": {},
   "outputs": [
    {
     "data": {
      "text/plain": [
       "True"
      ]
     },
     "execution_count": 12,
     "metadata": {},
     "output_type": "execute_result"
    }
   ],
   "source": [
    "#Identity operators (is and not is)\n",
    "x=7\n",
    "y=x\n",
    "z=y\n",
    "x is z\n"
   ]
  },
  {
   "cell_type": "code",
   "execution_count": 14,
   "id": "389a5355",
   "metadata": {},
   "outputs": [
    {
     "data": {
      "text/plain": [
       "False"
      ]
     },
     "execution_count": 14,
     "metadata": {},
     "output_type": "execute_result"
    }
   ],
   "source": [
    "#Membership operators (in and not in)\n",
    "\n",
    "'a' in 'and'\n",
    "'e' in 'Ahmed'\n",
    "'y' in 'Atala'\n"
   ]
  },
  {
   "cell_type": "code",
   "execution_count": 16,
   "id": "880c92e7",
   "metadata": {},
   "outputs": [
    {
     "data": {
      "text/plain": [
       "str"
      ]
     },
     "execution_count": 16,
     "metadata": {},
     "output_type": "execute_result"
    }
   ],
   "source": [
    "#Data types\n",
    "type(3.14)\n",
    "type(2023)\n",
    "type(\"Ahmed\")"
   ]
  },
  {
   "cell_type": "code",
   "execution_count": 17,
   "id": "d9afbd7c",
   "metadata": {},
   "outputs": [],
   "source": [
    "#Working with Strings\n",
    "x = \"Al Ahly is the best club in the world\"\n",
    "z='''Today is SAT.\n",
    "Tomorrow is SUN'''"
   ]
  },
  {
   "cell_type": "code",
   "execution_count": 18,
   "id": "f40cc816",
   "metadata": {},
   "outputs": [
    {
     "data": {
      "text/plain": [
       "13"
      ]
     },
     "execution_count": 18,
     "metadata": {},
     "output_type": "execute_result"
    }
   ],
   "source": [
    "len('Ahmed Ebrahim')"
   ]
  },
  {
   "cell_type": "code",
   "execution_count": 19,
   "id": "9f8aab36",
   "metadata": {},
   "outputs": [
    {
     "data": {
      "text/plain": [
       "'S'"
      ]
     },
     "execution_count": 19,
     "metadata": {},
     "output_type": "execute_result"
    }
   ],
   "source": [
    "x='mo Salah'\n",
    "x[3]"
   ]
  },
  {
   "cell_type": "code",
   "execution_count": 20,
   "id": "6159c033",
   "metadata": {},
   "outputs": [
    {
     "data": {
      "text/plain": [
       "' Salah'"
      ]
     },
     "execution_count": 20,
     "metadata": {},
     "output_type": "execute_result"
    }
   ],
   "source": [
    "x='mo Salah'\n",
    "x[2:]"
   ]
  },
  {
   "cell_type": "code",
   "execution_count": 21,
   "id": "e0d8fa51",
   "metadata": {},
   "outputs": [
    {
     "data": {
      "text/plain": [
       "'alatA'"
      ]
     },
     "execution_count": 21,
     "metadata": {},
     "output_type": "execute_result"
    }
   ],
   "source": [
    "z = \"Atala\"\n",
    "z[::-1]#reversing the string, the last character has an index -1"
   ]
  },
  {
   "cell_type": "code",
   "execution_count": 22,
   "id": "d1ae26de",
   "metadata": {},
   "outputs": [
    {
     "data": {
      "text/plain": [
       "'liverpool'"
      ]
     },
     "execution_count": 22,
     "metadata": {},
     "output_type": "execute_result"
    }
   ],
   "source": [
    "'LIVERPOOL'.lower()"
   ]
  },
  {
   "cell_type": "code",
   "execution_count": 23,
   "id": "6ac423d1",
   "metadata": {},
   "outputs": [
    {
     "data": {
      "text/plain": [
       "False"
      ]
     },
     "execution_count": 23,
     "metadata": {},
     "output_type": "execute_result"
    }
   ],
   "source": [
    "'omar'.startswith('m') \n"
   ]
  },
  {
   "cell_type": "code",
   "execution_count": 24,
   "id": "5c60a9df",
   "metadata": {},
   "outputs": [
    {
     "data": {
      "text/plain": [
       "'mohamed'"
      ]
     },
     "execution_count": 24,
     "metadata": {},
     "output_type": "execute_result"
    }
   ],
   "source": [
    "'        mohamed'.lstrip()"
   ]
  },
  {
   "cell_type": "code",
   "execution_count": 25,
   "id": "1d1da7a5",
   "metadata": {},
   "outputs": [
    {
     "data": {
      "text/plain": [
       "True"
      ]
     },
     "execution_count": 25,
     "metadata": {},
     "output_type": "execute_result"
    }
   ],
   "source": [
    "'9'.isdigit()#to check for digits"
   ]
  },
  {
   "cell_type": "code",
   "execution_count": 26,
   "id": "9b58a449",
   "metadata": {},
   "outputs": [
    {
     "data": {
      "text/plain": [
       "True"
      ]
     },
     "execution_count": 26,
     "metadata": {},
     "output_type": "execute_result"
    }
   ],
   "source": [
    "'1999'.isdigit()#to check for digits"
   ]
  },
  {
   "cell_type": "code",
   "execution_count": 27,
   "id": "9b9f16a0",
   "metadata": {},
   "outputs": [
    {
     "data": {
      "text/plain": [
       "'Ahmed Ebrahim Atala is funny'"
      ]
     },
     "execution_count": 27,
     "metadata": {},
     "output_type": "execute_result"
    }
   ],
   "source": [
    "' '.join(['Ahmed','Ebrahim','Atala','is','funny']) \n"
   ]
  },
  {
   "cell_type": "code",
   "execution_count": 28,
   "id": "e17b041c",
   "metadata": {},
   "outputs": [
    {
     "data": {
      "text/plain": [
       "['Ahmed', 'Ebrahim', 'Atala', 'is', 'funny']"
      ]
     },
     "execution_count": 28,
     "metadata": {},
     "output_type": "execute_result"
    }
   ],
   "source": [
    "'Ahmed Ebrahim Atala is funny'.split()\n"
   ]
  },
  {
   "cell_type": "code",
   "execution_count": 29,
   "id": "1d6f85d1",
   "metadata": {},
   "outputs": [
    {
     "name": "stdout",
     "output_type": "stream",
     "text": [
      "b is greater than a\n"
     ]
    }
   ],
   "source": [
    "#Conditional statements\n",
    "a = 1999\n",
    "b = 2023\n",
    "if b > a:\n",
    "  print(\"b is greater than a\")"
   ]
  },
  {
   "cell_type": "code",
   "execution_count": 30,
   "id": "5659d1d7",
   "metadata": {},
   "outputs": [
    {
     "name": "stdout",
     "output_type": "stream",
     "text": [
      "a and b are equal\n"
     ]
    }
   ],
   "source": [
    "a = 1999\n",
    "b = 1999\n",
    "if b > a:\n",
    "  print(\"b is greater than a\")\n",
    "elif a == b:\n",
    "  print(\"a and b are equal\")"
   ]
  },
  {
   "cell_type": "code",
   "execution_count": 31,
   "id": "3f9cad18",
   "metadata": {},
   "outputs": [
    {
     "name": "stdout",
     "output_type": "stream",
     "text": [
      "Both conditions are True\n"
     ]
    }
   ],
   "source": [
    "a = 200\n",
    "b = 33\n",
    "c = 500\n",
    "if a > b and c > a:\n",
    "  print(\"Both conditions are True\")"
   ]
  },
  {
   "cell_type": "code",
   "execution_count": 32,
   "id": "3843b1f9",
   "metadata": {},
   "outputs": [
    {
     "name": "stdout",
     "output_type": "stream",
     "text": [
      "Above ten,\n",
      "and also above 20!\n"
     ]
    }
   ],
   "source": [
    "x = 23\n",
    "if x > 15:\n",
    "  print(\"Above ten,\")\n",
    "  if x > 20:\n",
    "    print(\"and also above 20!\")\n",
    "  else:\n",
    "    print(\"but not above 20.\")"
   ]
  },
  {
   "cell_type": "code",
   "execution_count": 33,
   "id": "554b5acb",
   "metadata": {},
   "outputs": [
    {
     "name": "stdout",
     "output_type": "stream",
     "text": [
      "1\n",
      "2\n",
      "3\n",
      "4\n",
      "5\n"
     ]
    }
   ],
   "source": [
    "#Loops\n",
    "i = 1\n",
    "while i < 6:\n",
    "  print(i)\n",
    "  i += 1"
   ]
  },
  {
   "cell_type": "code",
   "execution_count": 34,
   "id": "af5f8e73",
   "metadata": {},
   "outputs": [
    {
     "name": "stdout",
     "output_type": "stream",
     "text": [
      "1\n",
      "2\n",
      "3\n"
     ]
    }
   ],
   "source": [
    "i = 1\n",
    "while i < 6:\n",
    "  print(i)\n",
    "  if i == 3:\n",
    "    break\n",
    "  i += 1"
   ]
  },
  {
   "cell_type": "code",
   "execution_count": 35,
   "id": "d06afd8d",
   "metadata": {},
   "outputs": [
    {
     "name": "stdout",
     "output_type": "stream",
     "text": [
      "1\n",
      "2\n",
      "3\n",
      "4\n",
      "5\n",
      "i is no longer less than 6\n"
     ]
    }
   ],
   "source": [
    "i = 1\n",
    "while i < 6:\n",
    "  print(i)\n",
    "  i += 1\n",
    "else:\n",
    "  print(\"i is no longer less than 6\")"
   ]
  },
  {
   "cell_type": "code",
   "execution_count": 36,
   "id": "a313dd7c",
   "metadata": {},
   "outputs": [
    {
     "name": "stdout",
     "output_type": "stream",
     "text": [
      "apple\n",
      "banana\n",
      "cherry\n"
     ]
    }
   ],
   "source": [
    "fruits = [\"apple\", \"banana\", \"cherry\"]\n",
    "for x in fruits:\n",
    "  print(x)"
   ]
  },
  {
   "cell_type": "code",
   "execution_count": 37,
   "id": "9dc9dd74",
   "metadata": {},
   "outputs": [
    {
     "name": "stdout",
     "output_type": "stream",
     "text": [
      "apple\n",
      "banana\n"
     ]
    }
   ],
   "source": [
    "fruits = [\"apple\", \"banana\", \"cherry\"]\n",
    "for x in fruits:\n",
    "  print(x)\n",
    "  if x == \"banana\":\n",
    "    break"
   ]
  },
  {
   "cell_type": "code",
   "execution_count": 40,
   "id": "eae93641",
   "metadata": {},
   "outputs": [
    {
     "name": "stdout",
     "output_type": "stream",
     "text": [
      "0\n",
      "1\n",
      "2\n",
      "3\n",
      "4\n",
      "5\n",
      "6\n",
      "7\n",
      "8\n"
     ]
    }
   ],
   "source": [
    "for x in range(9):\n",
    "  print(x)"
   ]
  },
  {
   "cell_type": "code",
   "execution_count": 41,
   "id": "61da8131",
   "metadata": {},
   "outputs": [
    {
     "name": "stdout",
     "output_type": "stream",
     "text": [
      "0\n",
      "1\n",
      "2\n",
      "3\n",
      "done!\n"
     ]
    }
   ],
   "source": [
    "for x in range(4):\n",
    "  print(x)\n",
    "else:\n",
    "  print(\"done!\")"
   ]
  },
  {
   "cell_type": "code",
   "execution_count": 42,
   "id": "f3910f3c",
   "metadata": {},
   "outputs": [],
   "source": [
    "#Functions\n",
    "def my_function():\n",
    "  print(\"GO away\")"
   ]
  },
  {
   "cell_type": "code",
   "execution_count": 44,
   "id": "790567a5",
   "metadata": {},
   "outputs": [
    {
     "name": "stdout",
     "output_type": "stream",
     "text": [
      "Emil Refsnes\n"
     ]
    }
   ],
   "source": [
    "def my_function(fname, lname):\n",
    "  print(fname + \" \" + lname)\n",
    "\n",
    "my_function(\"Emil\", \"Refsnes\")"
   ]
  },
  {
   "cell_type": "code",
   "execution_count": 45,
   "id": "d1428dea",
   "metadata": {},
   "outputs": [
    {
     "name": "stdout",
     "output_type": "stream",
     "text": [
      "72\n",
      "36\n",
      "225\n"
     ]
    }
   ],
   "source": [
    "def my_function(x):\n",
    "  return 9 * x\n",
    "\n",
    "print(my_function(8))\n",
    "print(my_function(4))\n",
    "print(my_function(25))"
   ]
  },
  {
   "cell_type": "code",
   "execution_count": 47,
   "id": "59617f89",
   "metadata": {},
   "outputs": [
    {
     "data": {
      "text/plain": [
       "0"
      ]
     },
     "execution_count": 47,
     "metadata": {},
     "output_type": "execute_result"
    }
   ],
   "source": [
    "#list\n",
    "colors=['violet','indigo','red','blue','green','yellow']\n",
    "colors.append('white')\n",
    "colors.insert(3,'pink')\n",
    "colors.extend(['purple','magenta'])\n",
    "colors.index('violet')\n"
   ]
  },
  {
   "cell_type": "code",
   "execution_count": 48,
   "id": "c1c042ee",
   "metadata": {},
   "outputs": [
    {
     "name": "stdout",
     "output_type": "stream",
     "text": [
      "('omar', 'mhmd', 'atala')\n"
     ]
    }
   ],
   "source": [
    "#Tuples\n",
    "thistuple = (\"omar\", \"mhmd\", \"atala\")\n",
    "print(thistuple)\n"
   ]
  },
  {
   "cell_type": "code",
   "execution_count": 49,
   "id": "9557a489",
   "metadata": {},
   "outputs": [
    {
     "name": "stdout",
     "output_type": "stream",
     "text": [
      "3\n"
     ]
    }
   ],
   "source": [
    "thistuple = (\"omar\", \"mhmd\", \"atala\")\n",
    "print(len(thistuple))"
   ]
  },
  {
   "cell_type": "code",
   "execution_count": 50,
   "id": "86e7e959",
   "metadata": {},
   "outputs": [
    {
     "name": "stdout",
     "output_type": "stream",
     "text": [
      "{'atala', 'ahmed', 'ammar', 'mhmd'}\n"
     ]
    }
   ],
   "source": [
    "#sets\n",
    "thisset = {\"ammar\", \"ahmed\", \"atala\",\"mhmd\"}\n",
    "print(thisset)"
   ]
  },
  {
   "cell_type": "code",
   "execution_count": 51,
   "id": "0bf8e74a",
   "metadata": {},
   "outputs": [],
   "source": [
    "set1 = {\"apple\", \"banana\", \"cherry\"}\n",
    "set2 = {1, 5, 7, 9, 3}\n",
    "set3 = {True, False, False}"
   ]
  },
  {
   "cell_type": "code",
   "execution_count": 56,
   "id": "26517720",
   "metadata": {},
   "outputs": [],
   "source": [
    "#Dictionaries\n",
    "thisdict = {\n",
    "  \"brand\": \"Ford\",\n",
    "  \"model\": \"Mustang\",\n",
    "  \"year\": 1964\n",
    "}\n",
    "x = thisdict[\"brand\"]"
   ]
  },
  {
   "cell_type": "code",
   "execution_count": 57,
   "id": "792b4df4",
   "metadata": {},
   "outputs": [],
   "source": [
    "thisdict = {\n",
    "  \"brand\": \"Ford\",\n",
    "  \"model\": \"Mustang\",\n",
    "  \"year\": 1964\n",
    "}\n",
    "thisdict[\"year\"] = 2018"
   ]
  },
  {
   "cell_type": "code",
   "execution_count": null,
   "id": "5ec1158b",
   "metadata": {},
   "outputs": [],
   "source": []
  }
 ],
 "metadata": {
  "kernelspec": {
   "display_name": "Python 3 (ipykernel)",
   "language": "python",
   "name": "python3"
  },
  "language_info": {
   "codemirror_mode": {
    "name": "ipython",
    "version": 3
   },
   "file_extension": ".py",
   "mimetype": "text/x-python",
   "name": "python",
   "nbconvert_exporter": "python",
   "pygments_lexer": "ipython3",
   "version": "3.9.7"
  }
 },
 "nbformat": 4,
 "nbformat_minor": 5
}
