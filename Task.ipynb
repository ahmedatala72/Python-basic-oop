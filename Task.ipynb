{
 "cells": [
  {
   "cell_type": "markdown",
   "id": "54c736b5",
   "metadata": {},
   "source": [
    "###  Using list comprehension ,list related functions or otherwise, create following list:\n",
    "\n",
    "   [[1, 2, 3, 4, 5, 6, 7], [1, 4, 9, 16, 25, 36, 49], [1, 8, 27, 64, 125, 216,343]]"
   ]
  },
  {
   "cell_type": "code",
   "execution_count": 11,
   "id": "7646f93b",
   "metadata": {},
   "outputs": [
    {
     "name": "stdout",
     "output_type": "stream",
     "text": [
      "[1, 4, 9, 16, 25, 36, 49]\n"
     ]
    }
   ],
   "source": [
    "squares = [x**2 for x in range(1,8)]\n",
    "print(squares)"
   ]
  },
  {
   "cell_type": "code",
   "execution_count": 12,
   "id": "605856e5",
   "metadata": {},
   "outputs": [
    {
     "name": "stdout",
     "output_type": "stream",
     "text": [
      "[1, 8, 27, 64, 125, 216, 343]\n"
     ]
    }
   ],
   "source": [
    "numbers = [x**3 for x in range(1,8)]\n",
    "print(numbers)"
   ]
  },
  {
   "cell_type": "markdown",
   "id": "76f578f9",
   "metadata": {},
   "source": [
    "### Use List comprehension to create a list of all numbers between 1 and 50 that are divisible by 3."
   ]
  },
  {
   "cell_type": "code",
   "execution_count": 13,
   "id": "0f0e09f7",
   "metadata": {},
   "outputs": [
    {
     "name": "stdout",
     "output_type": "stream",
     "text": [
      "[3, 6, 9, 12, 15, 18, 21, 24, 27, 30, 33, 36, 39, 42, 45, 48]\n"
     ]
    }
   ],
   "source": [
    "numbers3 = [x for x in range(1,51) if x %3 == 0]\n",
    "print(numbers3)"
   ]
  },
  {
   "cell_type": "code",
   "execution_count": null,
   "id": "a10269d8",
   "metadata": {},
   "outputs": [],
   "source": []
  },
  {
   "cell_type": "markdown",
   "id": "50a1c233",
   "metadata": {},
   "source": [
    "###  Use List Comprehension to create a list of the first letters of ever-y word in the string below:\n",
    "\n",
    "st = 'Create a list of the first letters of every word in this string'"
   ]
  },
  {
   "cell_type": "code",
   "execution_count": 24,
   "id": "2ac97061",
   "metadata": {},
   "outputs": [
    {
     "name": "stdout",
     "output_type": "stream",
     "text": [
      "['Create', 'a', 'list', 'of', 'the', 'first', 'letters', 'of', 'every', 'word', 'in', 'this', 'string']\n",
      "['C', 'a', 'l', 'o', 't', 'f', 'l', 'o', 'e', 'w', 'i', 't', 's']\n"
     ]
    }
   ],
   "source": [
    "text = 'Create a list of the first letters of every word in this string'\n",
    "x =(text.split(' '))\n",
    "print(x)\n",
    "lst =[i[0] for i in x ]\n",
    "print(lst)"
   ]
  },
  {
   "cell_type": "code",
   "execution_count": null,
   "id": "30a31f4e",
   "metadata": {},
   "outputs": [],
   "source": []
  },
  {
   "cell_type": "markdown",
   "id": "99347a10",
   "metadata": {},
   "source": [
    "### Write a program to extract phone numbers for each location \n",
    "\n",
    "- Consider this dictionary of addresses :\n",
    "\n",
    "{“home” : [“Hyderabad”,“Lingampally”,“Ph:1234567890”],\n",
    "\n",
    "“office”:[“Maharashtra”,“Mumbai”,“Ghatkopar”,“Ph : 5432167809”,“Pin :400043”],\n",
    "\n",
    "“OOI” : [“Singapore”,“Ph : 09876345”]}\n"
   ]
  },
  {
   "cell_type": "code",
   "execution_count": 17,
   "id": "0ec98294",
   "metadata": {},
   "outputs": [],
   "source": [
    "new_dict = { \"home\" :[\"Hyderabad\",\"Lingampally\" ,\"Ph:1234567890\"] ,\n",
    "            \"office\" : [\"Maharashtra\",\"Mumbai\",\"Ghatkopar\",\"Ph : 5432167809\",\"Pin :400043\"] ,\n",
    "            \"ooi\" : [\"Singapore\",\"Ph : 09876345\"] }\n",
    "      "
   ]
  },
  {
   "cell_type": "code",
   "execution_count": null,
   "id": "08474bf5",
   "metadata": {},
   "outputs": [],
   "source": [
    "\n"
   ]
  },
  {
   "cell_type": "markdown",
   "id": "3a408177",
   "metadata": {},
   "source": [
    "### Reverse the string 'Mega' using slicing"
   ]
  },
  {
   "cell_type": "code",
   "execution_count": 40,
   "id": "4c01d91d",
   "metadata": {},
   "outputs": [
    {
     "name": "stdout",
     "output_type": "stream",
     "text": [
      "agem\n"
     ]
    }
   ],
   "source": [
    "st =\"mega\"\n",
    "print(st[len(st)-1::-1])"
   ]
  },
  {
   "cell_type": "code",
   "execution_count": null,
   "id": "a80de031",
   "metadata": {},
   "outputs": [],
   "source": []
  },
  {
   "cell_type": "markdown",
   "id": "aac74a7f",
   "metadata": {},
   "source": [
    "###  in the string below if the **length of a word** is even print \"even!\"\n",
    "string = 'Print every word in this sentence that has an even number of letters'"
   ]
  },
  {
   "cell_type": "code",
   "execution_count": null,
   "id": "25e636ff",
   "metadata": {},
   "outputs": [],
   "source": [
    "def printWords(s):    \n",
    "s = s.split(' ')\n",
    "for word in s:\n",
    "   if len(word)%2==0:\n",
    "      print(word)\n",
    "s ='Print every word in this sentence that has an even number of letters'\n",
    "printWords(s)\n"
   ]
  },
  {
   "cell_type": "markdown",
   "id": "da85751e",
   "metadata": {},
   "source": [
    "## Create a tuple of 5 elements and then multiply each element of the tuple by 2 & save the results in a list"
   ]
  },
  {
   "cell_type": "code",
   "execution_count": 18,
   "id": "75eaedcf",
   "metadata": {},
   "outputs": [
    {
     "name": "stdout",
     "output_type": "stream",
     "text": [
      "[38, 46, 198, 44, 36]\n"
     ]
    }
   ],
   "source": [
    "my_tuple =(19,23,99,22,18)\n",
    "my_new_tuple = (elem*2 for elem in my_tuple)\n",
    "print(list(my_new_tuple))\n",
    "\n",
    "\n",
    "\n",
    "\n",
    "\n"
   ]
  },
  {
   "cell_type": "code",
   "execution_count": null,
   "id": "31775761",
   "metadata": {},
   "outputs": [],
   "source": []
  },
  {
   "cell_type": "markdown",
   "id": "3420d704",
   "metadata": {},
   "source": [
    "### Solve these problems :-\n",
    "\n",
    "*  https://www.hackerrank.com/challenges/python-string-split-and-join/problem\n",
    "*  https://www.hackerrank.com/challenges/write-a-function/problem\n",
    "*  https://www.hackerrank.com/challenges/py-if-else/problem"
   ]
  },
  {
   "cell_type": "code",
   "execution_count": 87,
   "id": "dd49cfa8",
   "metadata": {},
   "outputs": [
    {
     "name": "stdout",
     "output_type": "stream",
     "text": [
      "this is pthon\n",
      "this-is-pthon\n"
     ]
    }
   ],
   "source": [
    "def split_and_join(line):\n",
    "    return \"-\".join(line.split(\" \"))\n",
    "\n",
    "if __name__ == '__main__':\n",
    "    line = input()\n",
    "    result = split_and_join(line)\n",
    "    print(result)\n"
   ]
  },
  {
   "cell_type": "code",
   "execution_count": 88,
   "id": "b8f32149",
   "metadata": {},
   "outputs": [
    {
     "name": "stdout",
     "output_type": "stream",
     "text": [
      "1990\n",
      "False\n"
     ]
    }
   ],
   "source": [
    "def is_leap(n):\n",
    "    if n % 400 == 0:\n",
    "        return True\n",
    "    if n % 100 == 0:\n",
    "        return False\n",
    "    if n % 4 == 0:\n",
    "        return True\n",
    "    return False\n",
    "\n",
    "print(is_leap(int(input())))"
   ]
  },
  {
   "cell_type": "code",
   "execution_count": 75,
   "id": "df58593a",
   "metadata": {},
   "outputs": [
    {
     "name": "stdout",
     "output_type": "stream",
     "text": [
      "3\n",
      "Weird\n"
     ]
    }
   ],
   "source": [
    "n = int(input())\n",
    "if n % 2 == 1:\n",
    "    print(\"Weird\")\n",
    "elif n % 2 == 0 and 2 <= n <= 5:\n",
    "    print(\"Not Weird\")\n",
    "elif n % 2 == 0 and 6 <= n <= 20:\n",
    "    print(\"Weird\")\n",
    "else:\n",
    "    print(\"Not Weird\")"
   ]
  },
  {
   "cell_type": "code",
   "execution_count": null,
   "id": "1603b23d",
   "metadata": {},
   "outputs": [],
   "source": []
  },
  {
   "cell_type": "code",
   "execution_count": null,
   "id": "a441e709",
   "metadata": {},
   "outputs": [],
   "source": []
  },
  {
   "cell_type": "markdown",
   "id": "4838439c",
   "metadata": {},
   "source": [
    "###   counts how many times the letter “r” appears in the phrase bellow and then print it out .\n",
    "\n",
    "phrase = \"Is it better to have an outlier in your own data ? of course not, to be content with reality; if it's not so bright as dreams,create your fav routine  \""
   ]
  },
  {
   "cell_type": "code",
   "execution_count": 39,
   "id": "d9c5b846",
   "metadata": {},
   "outputs": [
    {
     "name": "stdout",
     "output_type": "stream",
     "text": [
      "r occurs 10 times.\n"
     ]
    }
   ],
   "source": [
    "phrase = \"Is it better to have an outlier in your own data ? of course not, to be content with reality; if it's not so bright as dreams,create your fav routine \"\n",
    "\n",
    "count=0\n",
    "for i in phrase:\n",
    "    if i=='r':\n",
    "        count+=1\n",
    "print(\"r\",\"occurs\" , count, \"times.\")        \n",
    "    \n",
    "\n"
   ]
  },
  {
   "cell_type": "code",
   "execution_count": null,
   "id": "a67b245e",
   "metadata": {},
   "outputs": [],
   "source": []
  },
  {
   "cell_type": "code",
   "execution_count": null,
   "id": "e30090cb",
   "metadata": {},
   "outputs": [],
   "source": []
  },
  {
   "cell_type": "code",
   "execution_count": null,
   "id": "ff1b8a27",
   "metadata": {},
   "outputs": [],
   "source": []
  }
 ],
 "metadata": {
  "kernelspec": {
   "display_name": "Python 3 (ipykernel)",
   "language": "python",
   "name": "python3"
  },
  "language_info": {
   "codemirror_mode": {
    "name": "ipython",
    "version": 3
   },
   "file_extension": ".py",
   "mimetype": "text/x-python",
   "name": "python",
   "nbconvert_exporter": "python",
   "pygments_lexer": "ipython3",
   "version": "3.9.7"
  }
 },
 "nbformat": 4,
 "nbformat_minor": 5
}
